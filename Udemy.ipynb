{
  "nbformat": 4,
  "nbformat_minor": 0,
  "metadata": {
    "colab": {
      "private_outputs": true,
      "provenance": [],
      "cell_execution_strategy": "setup",
      "mount_file_id": "1qKW-NGARB4T1uOOk6fvXW_5uAUO1757j",
      "authorship_tag": "ABX9TyP1v6QfRWk1zgg5S0FnGGIA",
      "include_colab_link": true
    },
    "kernelspec": {
      "name": "python3",
      "display_name": "Python 3"
    },
    "language_info": {
      "name": "python"
    }
  },
  "cells": [
    {
      "cell_type": "markdown",
      "metadata": {
        "id": "view-in-github",
        "colab_type": "text"
      },
      "source": [
        "<a href=\"https://colab.research.google.com/github/tamilmech/Udemy_ML_Course/blob/main/Udemy.ipynb\" target=\"_parent\"><img src=\"https://colab.research.google.com/assets/colab-badge.svg\" alt=\"Open In Colab\"/></a>"
      ]
    },
    {
      "cell_type": "code",
      "execution_count": null,
      "metadata": {
        "id": "lywiUSnVjw55"
      },
      "outputs": [],
      "source": []
    },
    {
      "cell_type": "markdown",
      "source": [
        "# statistic\n",
        "Statistics is the branch of mathematics dealing with the collection, analysis, interpretation, presentation, and organization of data.\n",
        "1) descriptive"
      ],
      "metadata": {
        "id": "XgPN4LYUkzeP"
      }
    },
    {
      "cell_type": "code",
      "source": [],
      "metadata": {
        "id": "e-tbfDqilGqu"
      },
      "execution_count": null,
      "outputs": []
    }
  ]
}